{
 "cells": [
  {
   "cell_type": "code",
   "execution_count": null,
   "metadata": {},
   "outputs": [],
   "source": [
    "import pandas as pdimport numpy as npimport matplotlib.pyplot as pltimport warnings # current version of seaborn generates a set of warnings that we will be ignoredimport seaborn as sns# Upload datasetdf = pd.read_csv('/Users/majed/Desktop/Retinopathy/dataset.csv', header=0,names=['f1','f2','f3','f4','f5','f6','f7','f8','f9','f10','f11','f12','f13','f14','f15','f16','f17','f18','f19','class'])"
   ]
  }
 ],
 "metadata": {
  "language": "python"
 },
 "nbformat": 4,
 "nbformat_minor": 2
}
